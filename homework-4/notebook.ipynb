{
 "cells": [
  {
   "cell_type": "code",
   "id": "2c51efaa",
   "metadata": {
    "ExecuteTime": {
     "end_time": "2024-06-11T04:39:12.036438Z",
     "start_time": "2024-06-11T04:39:11.490145Z"
    }
   },
   "source": [
    "!pip freeze | grep scikit-learn"
   ],
   "outputs": [
    {
     "name": "stdout",
     "output_type": "stream",
     "text": [
      "scikit-learn==1.5.0\r\n"
     ]
    }
   ],
   "execution_count": 83
  },
  {
   "cell_type": "code",
   "id": "4acf73a0-51b5-4663-9bb8-8eb947863e17",
   "metadata": {
    "ExecuteTime": {
     "end_time": "2024-06-10T21:42:05.753546Z",
     "start_time": "2024-06-10T21:42:05.628072Z"
    }
   },
   "source": [
    "!python -V"
   ],
   "outputs": [
    {
     "name": "stdout",
     "output_type": "stream",
     "text": [
      "Python 3.12.3\r\n"
     ]
    }
   ],
   "execution_count": 2
  },
  {
   "cell_type": "code",
   "id": "0ef880a0",
   "metadata": {
    "ExecuteTime": {
     "end_time": "2024-06-10T22:03:34.887797Z",
     "start_time": "2024-06-10T22:03:34.885309Z"
    }
   },
   "source": [
    "import pickle\n",
    "import pandas as pd\n",
    "import numpy as np"
   ],
   "outputs": [],
   "execution_count": 26
  },
  {
   "cell_type": "code",
   "id": "7836ccfd",
   "metadata": {
    "ExecuteTime": {
     "end_time": "2024-06-10T21:42:50.318204Z",
     "start_time": "2024-06-10T21:42:50.313486Z"
    }
   },
   "source": [
    "with open('model.bin', 'rb') as f_in:\n",
    "    dv, model = pickle.load(f_in)"
   ],
   "outputs": [],
   "execution_count": 6
  },
  {
   "cell_type": "code",
   "id": "41c08294",
   "metadata": {
    "ExecuteTime": {
     "end_time": "2024-06-10T21:47:19.200785Z",
     "start_time": "2024-06-10T21:47:19.193319Z"
    }
   },
   "source": [
    "categorical = ['PULocationID', 'DOLocationID']\n",
    "\n",
    "def read_data(filename):\n",
    "    df = pd.read_parquet(filename)\n",
    "    \n",
    "    df['duration'] = df.tpep_dropoff_datetime - df.tpep_pickup_datetime\n",
    "    df['duration'] = df.duration.dt.total_seconds() / 60\n",
    "\n",
    "    df = df[(df.duration >= 1) & (df.duration <= 60)].copy()\n",
    "\n",
    "    df[categorical] = df[categorical].fillna(-1).astype('int').astype('str')\n",
    "    \n",
    "    return df"
   ],
   "outputs": [],
   "execution_count": 14
  },
  {
   "cell_type": "code",
   "id": "4854399a",
   "metadata": {
    "ExecuteTime": {
     "end_time": "2024-06-11T04:06:53.867173Z",
     "start_time": "2024-06-11T04:06:47.633652Z"
    }
   },
   "source": "df = read_data('https://d37ci6vzurychx.cloudfront.net/trip-data/yellow_tripdata_2023-03.parquet')",
   "outputs": [],
   "execution_count": 69
  },
  {
   "cell_type": "code",
   "id": "669fda0a",
   "metadata": {
    "ExecuteTime": {
     "end_time": "2024-06-11T04:07:07.505249Z",
     "start_time": "2024-06-11T04:07:01.107147Z"
    }
   },
   "source": [
    "dicts = df[categorical].to_dict(orient='records')\n",
    "X_val = dv.transform(dicts)\n",
    "y_pred = model.predict(X_val)"
   ],
   "outputs": [],
   "execution_count": 70
  },
  {
   "cell_type": "code",
   "id": "bf532ae7-1897-428c-ba0c-875ccaf7d76c",
   "metadata": {
    "ExecuteTime": {
     "end_time": "2024-06-11T04:07:07.513012Z",
     "start_time": "2024-06-11T04:07:07.506458Z"
    }
   },
   "source": "y_pred.std()",
   "outputs": [
    {
     "data": {
      "text/plain": [
       "6.247488852238703"
      ]
     },
     "execution_count": 71,
     "metadata": {},
     "output_type": "execute_result"
    }
   ],
   "execution_count": 71
  },
  {
   "metadata": {
    "ExecuteTime": {
     "end_time": "2024-06-11T04:07:22.911515Z",
     "start_time": "2024-06-11T04:07:22.383313Z"
    }
   },
   "cell_type": "code",
   "source": [
    "df['ride_id'] = f'2023/03_' + df.index.astype('str')\n",
    "df['ride_id']"
   ],
   "id": "f6d8e2fb10d5e40c",
   "outputs": [
    {
     "data": {
      "text/plain": [
       "0                2023/03_0\n",
       "1                2023/03_1\n",
       "2                2023/03_2\n",
       "3                2023/03_3\n",
       "4                2023/03_4\n",
       "                ...       \n",
       "3403761    2023/03_3403761\n",
       "3403762    2023/03_3403762\n",
       "3403763    2023/03_3403763\n",
       "3403764    2023/03_3403764\n",
       "3403765    2023/03_3403765\n",
       "Name: ride_id, Length: 3316216, dtype: object"
      ]
     },
     "execution_count": 73,
     "metadata": {},
     "output_type": "execute_result"
    }
   ],
   "execution_count": 73
  },
  {
   "metadata": {
    "ExecuteTime": {
     "end_time": "2024-06-11T04:07:24.240696Z",
     "start_time": "2024-06-11T04:07:24.237778Z"
    }
   },
   "cell_type": "code",
   "source": "y_pred",
   "id": "164f76e8be066e58",
   "outputs": [
    {
     "data": {
      "text/plain": [
       "array([16.24590642, 26.1347962 , 11.88426424, ..., 11.59533603,\n",
       "       13.11317847, 12.89999218])"
      ]
     },
     "execution_count": 74,
     "metadata": {},
     "output_type": "execute_result"
    }
   ],
   "execution_count": 74
  },
  {
   "metadata": {
    "ExecuteTime": {
     "end_time": "2024-06-11T04:07:40.526957Z",
     "start_time": "2024-06-11T04:07:40.505977Z"
    }
   },
   "cell_type": "code",
   "source": "",
   "id": "bb0260429ce8821c",
   "outputs": [
    {
     "data": {
      "text/plain": [
       "            y_pred\n",
       "0        16.245906\n",
       "1        26.134796\n",
       "2        11.884264\n",
       "3        11.997720\n",
       "4        10.234486\n",
       "...            ...\n",
       "3403761  11.952635\n",
       "3403762  20.049958\n",
       "3403763  11.595336\n",
       "3403764  13.113178\n",
       "3403765  12.899992\n",
       "\n",
       "[3316216 rows x 1 columns]"
      ],
      "text/html": [
       "<div>\n",
       "<style scoped>\n",
       "    .dataframe tbody tr th:only-of-type {\n",
       "        vertical-align: middle;\n",
       "    }\n",
       "\n",
       "    .dataframe tbody tr th {\n",
       "        vertical-align: top;\n",
       "    }\n",
       "\n",
       "    .dataframe thead th {\n",
       "        text-align: right;\n",
       "    }\n",
       "</style>\n",
       "<table border=\"1\" class=\"dataframe\">\n",
       "  <thead>\n",
       "    <tr style=\"text-align: right;\">\n",
       "      <th></th>\n",
       "      <th>y_pred</th>\n",
       "    </tr>\n",
       "  </thead>\n",
       "  <tbody>\n",
       "    <tr>\n",
       "      <th>0</th>\n",
       "      <td>16.245906</td>\n",
       "    </tr>\n",
       "    <tr>\n",
       "      <th>1</th>\n",
       "      <td>26.134796</td>\n",
       "    </tr>\n",
       "    <tr>\n",
       "      <th>2</th>\n",
       "      <td>11.884264</td>\n",
       "    </tr>\n",
       "    <tr>\n",
       "      <th>3</th>\n",
       "      <td>11.997720</td>\n",
       "    </tr>\n",
       "    <tr>\n",
       "      <th>4</th>\n",
       "      <td>10.234486</td>\n",
       "    </tr>\n",
       "    <tr>\n",
       "      <th>...</th>\n",
       "      <td>...</td>\n",
       "    </tr>\n",
       "    <tr>\n",
       "      <th>3403761</th>\n",
       "      <td>11.952635</td>\n",
       "    </tr>\n",
       "    <tr>\n",
       "      <th>3403762</th>\n",
       "      <td>20.049958</td>\n",
       "    </tr>\n",
       "    <tr>\n",
       "      <th>3403763</th>\n",
       "      <td>11.595336</td>\n",
       "    </tr>\n",
       "    <tr>\n",
       "      <th>3403764</th>\n",
       "      <td>13.113178</td>\n",
       "    </tr>\n",
       "    <tr>\n",
       "      <th>3403765</th>\n",
       "      <td>12.899992</td>\n",
       "    </tr>\n",
       "  </tbody>\n",
       "</table>\n",
       "<p>3316216 rows × 1 columns</p>\n",
       "</div>"
      ]
     },
     "execution_count": 75,
     "metadata": {},
     "output_type": "execute_result"
    }
   ],
   "execution_count": 75
  },
  {
   "metadata": {
    "ExecuteTime": {
     "end_time": "2024-06-11T04:08:31.443132Z",
     "start_time": "2024-06-11T04:08:31.309471Z"
    }
   },
   "cell_type": "code",
   "source": [
    "df_result = pd.concat([df['ride_id'], pd.DataFrame(y_pred, columns=[\"predictions\"], index=df.index)], axis=1)\n",
    "df_result"
   ],
   "id": "1cf203f9a36c8ce0",
   "outputs": [
    {
     "data": {
      "text/plain": [
       "                 ride_id  predictions\n",
       "0              2023/03_0    16.245906\n",
       "1              2023/03_1    26.134796\n",
       "2              2023/03_2    11.884264\n",
       "3              2023/03_3    11.997720\n",
       "4              2023/03_4    10.234486\n",
       "...                  ...          ...\n",
       "3403761  2023/03_3403761    11.952635\n",
       "3403762  2023/03_3403762    20.049958\n",
       "3403763  2023/03_3403763    11.595336\n",
       "3403764  2023/03_3403764    13.113178\n",
       "3403765  2023/03_3403765    12.899992\n",
       "\n",
       "[3316216 rows x 2 columns]"
      ],
      "text/html": [
       "<div>\n",
       "<style scoped>\n",
       "    .dataframe tbody tr th:only-of-type {\n",
       "        vertical-align: middle;\n",
       "    }\n",
       "\n",
       "    .dataframe tbody tr th {\n",
       "        vertical-align: top;\n",
       "    }\n",
       "\n",
       "    .dataframe thead th {\n",
       "        text-align: right;\n",
       "    }\n",
       "</style>\n",
       "<table border=\"1\" class=\"dataframe\">\n",
       "  <thead>\n",
       "    <tr style=\"text-align: right;\">\n",
       "      <th></th>\n",
       "      <th>ride_id</th>\n",
       "      <th>predictions</th>\n",
       "    </tr>\n",
       "  </thead>\n",
       "  <tbody>\n",
       "    <tr>\n",
       "      <th>0</th>\n",
       "      <td>2023/03_0</td>\n",
       "      <td>16.245906</td>\n",
       "    </tr>\n",
       "    <tr>\n",
       "      <th>1</th>\n",
       "      <td>2023/03_1</td>\n",
       "      <td>26.134796</td>\n",
       "    </tr>\n",
       "    <tr>\n",
       "      <th>2</th>\n",
       "      <td>2023/03_2</td>\n",
       "      <td>11.884264</td>\n",
       "    </tr>\n",
       "    <tr>\n",
       "      <th>3</th>\n",
       "      <td>2023/03_3</td>\n",
       "      <td>11.997720</td>\n",
       "    </tr>\n",
       "    <tr>\n",
       "      <th>4</th>\n",
       "      <td>2023/03_4</td>\n",
       "      <td>10.234486</td>\n",
       "    </tr>\n",
       "    <tr>\n",
       "      <th>...</th>\n",
       "      <td>...</td>\n",
       "      <td>...</td>\n",
       "    </tr>\n",
       "    <tr>\n",
       "      <th>3403761</th>\n",
       "      <td>2023/03_3403761</td>\n",
       "      <td>11.952635</td>\n",
       "    </tr>\n",
       "    <tr>\n",
       "      <th>3403762</th>\n",
       "      <td>2023/03_3403762</td>\n",
       "      <td>20.049958</td>\n",
       "    </tr>\n",
       "    <tr>\n",
       "      <th>3403763</th>\n",
       "      <td>2023/03_3403763</td>\n",
       "      <td>11.595336</td>\n",
       "    </tr>\n",
       "    <tr>\n",
       "      <th>3403764</th>\n",
       "      <td>2023/03_3403764</td>\n",
       "      <td>13.113178</td>\n",
       "    </tr>\n",
       "    <tr>\n",
       "      <th>3403765</th>\n",
       "      <td>2023/03_3403765</td>\n",
       "      <td>12.899992</td>\n",
       "    </tr>\n",
       "  </tbody>\n",
       "</table>\n",
       "<p>3316216 rows × 2 columns</p>\n",
       "</div>"
      ]
     },
     "execution_count": 76,
     "metadata": {},
     "output_type": "execute_result"
    }
   ],
   "execution_count": 76
  },
  {
   "metadata": {
    "ExecuteTime": {
     "end_time": "2024-06-11T04:08:49.873861Z",
     "start_time": "2024-06-11T04:08:49.871466Z"
    }
   },
   "cell_type": "code",
   "source": "[df['ride_id'].shape, y_pred.shape, df_result.shape]",
   "id": "2ca65c25fbc83ee6",
   "outputs": [
    {
     "data": {
      "text/plain": [
       "[(3316216,), (3316216,), (3316216, 2)]"
      ]
     },
     "execution_count": 77,
     "metadata": {},
     "output_type": "execute_result"
    }
   ],
   "execution_count": 77
  },
  {
   "metadata": {
    "ExecuteTime": {
     "end_time": "2024-06-11T04:11:36.538876Z",
     "start_time": "2024-06-11T04:11:36.196718Z"
    }
   },
   "cell_type": "code",
   "source": [
    "df_result.to_parquet(\n",
    "    \"../tmp/df_result.parquet\",\n",
    "    engine='pyarrow',\n",
    "    compression=None,\n",
    "    index=False\n",
    ")"
   ],
   "id": "6860ccbb3295cc16",
   "outputs": [],
   "execution_count": 81
  },
  {
   "metadata": {
    "ExecuteTime": {
     "end_time": "2024-06-11T04:11:44.620395Z",
     "start_time": "2024-06-11T04:11:44.471918Z"
    }
   },
   "cell_type": "code",
   "source": "!ls -lah ../tmp/df_result.parquet",
   "id": "1c9282f1df0daaca",
   "outputs": [
    {
     "name": "stdout",
     "output_type": "stream",
     "text": [
      "-rw-r--r--@ 1 asfandqazi  staff    65M Jun 11 05:11 ../tmp/df_result.parquet\r\n"
     ]
    }
   ],
   "execution_count": 82
  }
 ],
 "metadata": {
  "kernelspec": {
   "display_name": "Python 3 (ipykernel)",
   "language": "python",
   "name": "python3"
  },
  "language_info": {
   "codemirror_mode": {
    "name": "ipython",
    "version": 3
   },
   "file_extension": ".py",
   "mimetype": "text/x-python",
   "name": "python",
   "nbconvert_exporter": "python",
   "pygments_lexer": "ipython3",
   "version": "3.10.13"
  }
 },
 "nbformat": 4,
 "nbformat_minor": 5
}
